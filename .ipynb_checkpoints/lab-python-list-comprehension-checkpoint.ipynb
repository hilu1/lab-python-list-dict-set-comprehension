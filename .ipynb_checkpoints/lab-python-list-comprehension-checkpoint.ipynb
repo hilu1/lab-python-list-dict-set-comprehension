{
 "cells": [
  {
   "cell_type": "markdown",
   "id": "25d7736c-ba17-4aff-b6bb-66eba20fbf4e",
   "metadata": {},
   "source": [
    "# Lab | List, Dict and Set Comprehension"
   ]
  },
  {
   "cell_type": "markdown",
   "id": "7dd3cbde-675a-4b81-92c3-f728846dbe06",
   "metadata": {},
   "source": [
    "## Exercise: Managing Customer Orders Optimized with Comprehension"
   ]
  },
  {
   "cell_type": "markdown",
   "id": "5d500160-2fb7-4777-b5e4-09d45ebaf328",
   "metadata": {},
   "source": [
    "In the previous exercise, you developed a program to manage customer orders and inventory. Now, let's take it a step further and incorporate comprehension into your code.\n",
    "\n",
    "Follow the steps below to complete the exercise:\n",
    "\n",
    "1. Review your code from the previous exercise and identify areas where you can apply comprehension to simplify and streamline your code. \n",
    "\n",
    "    - *Hint: Apply it to initialize inventory, updating the inventory and printing the updated inventory.*\n",
    "    \n",
    "    - For example, in initializing the inventory, we could have:\n",
    "    \n",
    "        ```python\n",
    "        def initialize_inventory(products):\n",
    "            inventory = {product: int(input(f\"Enter the quantity of {product}s available: \")) for product in products}\n",
    "            return inventory\n",
    "\n",
    "        ```\n",
    "<br>\n",
    "    \n",
    "    \n",
    "2. Modify the function get_customer_orders so it prompts the user to enter the number of customer orders and gathers the product names using a loop and user input. Use comprehension.\n",
    "\n",
    "3. Add a new function to calculate the total price of the customer order. For each product in customer_orders, prompt the user to enter the price of that product. Use comprehension to calculate the total price. Note: assume that the user can only have 1 unit of each product.\n",
    "\n",
    "4. Modify the update_inventory function to remove the product from the inventory if its quantity becomes zero after fulfilling the customer orders. Use comprehension to filter out the products with a quantity of zero from the inventory.\n",
    "\n",
    "5. Print the total price of the customer order.\n",
    "\n",
    "Your code should produce output similar to the following:\n",
    "\n",
    "```python\n",
    "Enter the quantity of t-shirts available:  5\n",
    "Enter the quantity of mugs available:  4\n",
    "Enter the quantity of hats available:  3\n",
    "Enter the quantity of books available:  2\n",
    "Enter the quantity of keychains available:  1\n",
    "Enter the number of customer orders:  2\n",
    "Enter the name of a product that a customer wants to order:  hat\n",
    "Enter the name of a product that a customer wants to order:  keychain\n",
    "\n",
    "Order Statistics:\n",
    "Total Products Ordered: 2\n",
    "Percentage of Unique Products Ordered: 40.0\n",
    "\n",
    "Updated Inventory:\n",
    "t-shirt: 5\n",
    "mug: 4\n",
    "hat: 2\n",
    "book: 2\n",
    "Enter the price of keychain:  5\n",
    "Enter the price of hat:  10\n",
    "Total Price: 15.0\n",
    "\n",
    "```\n"
   ]
  },
  {
   "cell_type": "code",
   "execution_count": 1,
   "id": "21e49289-918d-4d5d-a281-8ad693a2d5f4",
   "metadata": {},
   "outputs": [
    {
     "name": "stdin",
     "output_type": "stream",
     "text": [
      "Enter the quantity of t-shirts available:  9\n",
      "Enter the quantity of mugs available:  19\n",
      "Enter the quantity of hats available:  9\n",
      "Enter the quantity of books available:  15\n",
      "Enter the quantity of keychains available:  done\n"
     ]
    },
    {
     "name": "stdout",
     "output_type": "stream",
     "text": [
      "Invalid input! Please enter a valid integer.\n"
     ]
    },
    {
     "name": "stdin",
     "output_type": "stream",
     "text": [
      "Enter the quantity of keychains available:  15\n",
      "Enter the name of the product you want to order:  mug\n"
     ]
    },
    {
     "name": "stdout",
     "output_type": "stream",
     "text": [
      "Mug ordered! Remaining stock: 18\n"
     ]
    },
    {
     "name": "stdin",
     "output_type": "stream",
     "text": [
      "Do you want to add another product? (yes/no):  yes\n",
      "Enter the name of the product you want to order:  book\n"
     ]
    },
    {
     "name": "stdout",
     "output_type": "stream",
     "text": [
      "Book ordered! Remaining stock: 14\n"
     ]
    },
    {
     "name": "stdin",
     "output_type": "stream",
     "text": [
      "Do you want to add another product? (yes/no):  yes\n",
      "Enter the name of the product you want to order:  hat\n"
     ]
    },
    {
     "name": "stdout",
     "output_type": "stream",
     "text": [
      "Hat ordered! Remaining stock: 8\n"
     ]
    },
    {
     "name": "stdin",
     "output_type": "stream",
     "text": [
      "Do you want to add another product? (yes/no):  no\n"
     ]
    },
    {
     "name": "stdout",
     "output_type": "stream",
     "text": [
      "\n",
      "Updated Inventory:\n",
      "T-shirt: 9 left (In stock)\n",
      "Mug: 18 left (In stock)\n",
      "Hat: 8 left (In stock)\n",
      "Book: 14 left (In stock)\n",
      "Keychain: 15 left (In stock)\n",
      "\n",
      "Thank you for your order!\n"
     ]
    }
   ],
   "source": [
    "# Define product list\n",
    "products = [\"t-shirt\", \"mug\", \"hat\", \"book\", \"keychain\"]\n",
    "\n",
    "# Function to initialize inventory with user input\n",
    "def initialize_inventory(products):\n",
    "    inventory = {}\n",
    "    for product in products:\n",
    "        while True:\n",
    "            try:\n",
    "                quantity = int(input(f\"Enter the quantity of {product}s available: \"))\n",
    "                if quantity < 0:\n",
    "                    print(\"Quantity cannot be negative. Please enter a valid number.\")\n",
    "                else:\n",
    "                    inventory[product] = quantity\n",
    "                    break  # Exit loop once a valid quantity is entered\n",
    "            except ValueError:\n",
    "                print(\"Invalid input! Please enter a valid integer.\")\n",
    "    return inventory\n",
    "\n",
    "# Function to update inventory when a product is ordered\n",
    "def update_inventory(inventory, ordered_product):\n",
    "    if ordered_product in inventory:\n",
    "        if inventory[ordered_product] > 0:\n",
    "            inventory[ordered_product] -= 1\n",
    "            print(f\"{ordered_product.capitalize()} ordered! Remaining stock: {inventory[ordered_product]}\")\n",
    "        else:\n",
    "            print(f\"Sorry, {ordered_product} is out of stock.\")\n",
    "    else:\n",
    "        print(\"Invalid product. Please choose from the available inventory.\")\n",
    "\n",
    "# Function to print updated inventory\n",
    "def print_inventory(inventory):\n",
    "    print(\"\\nUpdated Inventory:\")\n",
    "    for product, quantity in inventory.items():\n",
    "        if quantity > 5:\n",
    "            print(f\"{product.capitalize()}: {quantity} left (In stock)\")\n",
    "        elif 1 <= quantity <= 5:\n",
    "            print(f\"{product.capitalize()}: {quantity} left (Low stock!)\")\n",
    "        else:\n",
    "            print(f\"{product.capitalize()}: OUT OF STOCK\")\n",
    "\n",
    "# Initialize inventory\n",
    "inventory = initialize_inventory(products)\n",
    "\n",
    "# Create an empty set for customer orders\n",
    "customer_orders = set()\n",
    "\n",
    "# Start the ordering loop\n",
    "while True:\n",
    "    # Ask the user for the product they want to order\n",
    "    ordered_product = input(\"Enter the name of the product you want to order: \").strip().lower()\n",
    "\n",
    "    # Check if the product is available and update inventory\n",
    "    if ordered_product in products:\n",
    "        update_inventory(inventory, ordered_product)\n",
    "        customer_orders.add(ordered_product)\n",
    "    else:\n",
    "        print(\"Sorry, that product is not available.\")\n",
    "\n",
    "    # Ask if the user wants to add another product\n",
    "    while True:\n",
    "        add_more = input(\"Do you want to add another product? (yes/no): \").strip().lower()\n",
    "        if add_more in [\"yes\", \"no\"]:\n",
    "            break\n",
    "        else:\n",
    "            print(\"Invalid input! Please enter 'yes' or 'no'.\")\n",
    "\n",
    "    # Exit the main loop if the user says \"no\"\n",
    "    if add_more == \"no\":\n",
    "        break\n",
    "\n",
    "# Print the final inventory status\n",
    "print_inventory(inventory)\n",
    "\n",
    "print(\"\\nThank you for your order!\")\n"
   ]
  },
  {
   "cell_type": "code",
   "execution_count": 29,
   "id": "1c867211-b4b8-4947-935f-ea0391eb9013",
   "metadata": {},
   "outputs": [
    {
     "name": "stdin",
     "output_type": "stream",
     "text": [
      "Enter the quantity of t-shirts available:  9\n",
      "Enter the quantity of mugs available:  18\n",
      "Enter the quantity of hats available:  8\n",
      "Enter the quantity of books available:  14\n",
      "Enter the quantity of keychains available:  15\n",
      "Enter the number of products you want to order:  4\n",
      "Enter product 1:  mug\n",
      "Enter product 2:  hat\n",
      "Enter product 3:  book\n",
      "Enter product 4:  keychains\n"
     ]
    },
    {
     "name": "stdout",
     "output_type": "stream",
     "text": [
      "\n",
      "These items are not available and will be ignored: keychains\n",
      "\n",
      "Final Order Summary:\n",
      "- Mug\n",
      "- Hat\n",
      "- Book\n"
     ]
    },
    {
     "name": "stdin",
     "output_type": "stream",
     "text": [
      "Enter the price of mug:  2\n",
      "Enter the price of hat:  9\n",
      "Enter the price of book:  15\n"
     ]
    },
    {
     "name": "stdout",
     "output_type": "stream",
     "text": [
      "\n",
      "Total Price of Your Order: $26.00\n",
      "\n",
      "Thank you for your order!\n"
     ]
    }
   ],
   "source": [
    "# Define product list\n",
    "products = [\"t-shirt\", \"mug\", \"hat\", \"book\", \"keychain\"]\n",
    "\n",
    "# Function to initialize inventory with user input\n",
    "def initialize_inventory(products):\n",
    "    inventory = {}\n",
    "    for product in products:\n",
    "        while True:\n",
    "            try:\n",
    "                quantity = int(input(f\"Enter the quantity of {product}s available: \"))\n",
    "                if quantity < 0:\n",
    "                    print(\"Quantity cannot be negative. Please enter a valid number.\")\n",
    "                else:\n",
    "                    inventory[product] = quantity\n",
    "                    break\n",
    "            except ValueError:\n",
    "                print(\"Invalid input! Please enter a valid integer.\")\n",
    "    return inventory\n",
    "\n",
    "# Function to get customer orders using list comprehension\n",
    "def get_customer_orders(products):\n",
    "    while True:\n",
    "        try:\n",
    "            num_orders = int(input(\"Enter the number of products you want to order: \"))\n",
    "            if num_orders < 1:\n",
    "                print(\"You must order at least one item.\")\n",
    "                continue\n",
    "            break\n",
    "        except ValueError:\n",
    "            print(\"Invalid input! Please enter a valid number.\")\n",
    "\n",
    "    # Collect valid product names using list comprehension\n",
    "    orders = [input(f\"Enter product {i+1}: \").strip().lower() for i in range(num_orders)]\n",
    "\n",
    "    # Filter out valid and invalid product names\n",
    "    valid_orders = [order for order in orders if order in products]\n",
    "    invalid_orders = [order for order in orders if order not in products]\n",
    "\n",
    "    # Inform user of any invalid orders\n",
    "    if invalid_orders:\n",
    "        print(f\"\\nThese items are not available and will be ignored: {', '.join(invalid_orders)}\")\n",
    "\n",
    "    return valid_orders\n",
    "\n",
    "# **New Function**: Calculate the total price\n",
    "def calculate_total_price(customer_orders):\n",
    "    # Get prices from the user\n",
    "    prices = {product: float(input(f\"Enter the price of {product}: \")) for product in customer_orders}\n",
    "\n",
    "    # Calculate total price using comprehension\n",
    "    total_price = sum(prices[product] for product in customer_orders)\n",
    "\n",
    "    print(f\"\\nTotal Price of Your Order: ${total_price:.2f}\")\n",
    "    return total_price\n",
    "\n",
    "# Function to print final customer orders\n",
    "def print_customer_orders(customer_orders):\n",
    "    print(\"\\nFinal Order Summary:\")\n",
    "    if customer_orders:\n",
    "        for product in customer_orders:\n",
    "            print(f\"- {product.capitalize()}\")\n",
    "    else:\n",
    "        print(\"No items were ordered.\")\n",
    "\n",
    "# Initialize inventory\n",
    "inventory = initialize_inventory(products)\n",
    "\n",
    "# Get customer orders\n",
    "customer_orders = get_customer_orders(products)\n",
    "\n",
    "# Print customer orders\n",
    "print_customer_orders(customer_orders)\n",
    "\n",
    "# Calculate and display the total price\n",
    "calculate_total_price(customer_orders)\n",
    "\n",
    "print(\"\\nThank you for your order!\")\n"
   ]
  },
  {
   "cell_type": "code",
   "execution_count": 39,
   "id": "df937ce9-d14a-4f4b-8fe5-9092170738d9",
   "metadata": {},
   "outputs": [
    {
     "name": "stdout",
     "output_type": "stream",
     "text": [
      "Hat ordered! Remaining stock: 7\n",
      "Mug ordered! Remaining stock: 17\n",
      "Book ordered! Remaining stock: 13\n",
      "\n",
      "Updated Inventory:\n",
      "{'t-shirt': 9, 'mug': 17, 'hat': 7, 'book': 13, 'keychain': 15}\n"
     ]
    }
   ],
   "source": [
    "# Function to update inventory when a product is ordered\n",
    "def update_inventory(inventory, customer_orders):\n",
    "    # Reduce the inventory quantity for each ordered product\n",
    "    for ordered_product in customer_orders:\n",
    "        if ordered_product in inventory:\n",
    "            if inventory[ordered_product] > 0:\n",
    "                inventory[ordered_product] -= 1\n",
    "                print(f\"{ordered_product.capitalize()} ordered! Remaining stock: {inventory[ordered_product]}\")\n",
    "            else:\n",
    "                print(f\"Sorry, {ordered_product} is out of stock.\")\n",
    "\n",
    "    # **Filter out products with zero quantity using comprehension**\n",
    "    inventory = {product: quantity for product, quantity in inventory.items() if quantity > 0}\n",
    "\n",
    "    return inventory  # Return the updated inventory\n",
    "inventory = {product: quantity for product, quantity in inventory.items() if quantity > 0}\n",
    "# inventory before ordering\n",
    "inventory = {\n",
    "    \"t-shirt\": 9,\n",
    "    \"mug\": 18,\n",
    "    \"hat\": 8,\n",
    "    \"book\": 14,\n",
    "    \"keychain\": 15\n",
    "}\n",
    "\n",
    "# customer orders\n",
    "customer_orders = [\"hat\", \"mug\", \"book\"]\n",
    "\n",
    "# Update inventory after orders\n",
    "inventory = update_inventory(inventory, customer_orders)\n",
    "\n",
    "# Print updated inventory\n",
    "print(\"\\nUpdated Inventory:\")\n",
    "print(inventory)\n",
    "\n",
    "\n"
   ]
  },
  {
   "cell_type": "code",
   "execution_count": 41,
   "id": "f15f211b-713e-47bc-aa5b-be9b653b5480",
   "metadata": {},
   "outputs": [
    {
     "name": "stdin",
     "output_type": "stream",
     "text": [
      "Enter the price of hat:  9\n",
      "Enter the price of mug:  2\n",
      "Enter the price of book:  15\n"
     ]
    }
   ],
   "source": [
    "prices = {product: float(input(f\"Enter the price of {product}: \")) for product in customer_orders}\n",
    "total_price = sum(prices[product] for product in customer_orders)\n",
    "\n"
   ]
  },
  {
   "cell_type": "code",
   "execution_count": 43,
   "id": "d0966a0e-7d5b-41af-a2e1-c977843f7211",
   "metadata": {},
   "outputs": [
    {
     "name": "stdin",
     "output_type": "stream",
     "text": [
      "Enter the price of mug:  2\n",
      "Enter the price of hat:  9\n",
      "Enter the price of book:  15\n",
      "Enter the price of keychains:  1\n"
     ]
    },
    {
     "name": "stdout",
     "output_type": "stream",
     "text": [
      "\n",
      "Total Price of Your Order: $27.00\n"
     ]
    },
    {
     "data": {
      "text/plain": [
       "27.0"
      ]
     },
     "execution_count": 43,
     "metadata": {},
     "output_type": "execute_result"
    }
   ],
   "source": [
    "# Example customer orders\n",
    "customer_orders = [\"mug\", \"hat\", \"book\", \"keychains\"]\n",
    "\n",
    "# Calculate and print the total price\n",
    "calculate_total_price(customer_orders)\n"
   ]
  },
  {
   "cell_type": "code",
   "execution_count": null,
   "id": "a5ce7b65-9489-498d-be49-b8ca6df1e40b",
   "metadata": {},
   "outputs": [],
   "source": []
  }
 ],
 "metadata": {
  "kernelspec": {
   "display_name": "Python [conda env:base] *",
   "language": "python",
   "name": "conda-base-py"
  },
  "language_info": {
   "codemirror_mode": {
    "name": "ipython",
    "version": 3
   },
   "file_extension": ".py",
   "mimetype": "text/x-python",
   "name": "python",
   "nbconvert_exporter": "python",
   "pygments_lexer": "ipython3",
   "version": "3.12.7"
  }
 },
 "nbformat": 4,
 "nbformat_minor": 5
}
